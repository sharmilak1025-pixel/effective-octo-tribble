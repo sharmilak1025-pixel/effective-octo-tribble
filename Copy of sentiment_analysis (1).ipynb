{
  "nbformat": 4,
  "nbformat_minor": 0,
  "metadata": {
    "colab": {
      "provenance": [],
      "authorship_tag": "ABX9TyOphOLjDiH0uFcu1aMY4y4+"
    },
    "kernelspec": {
      "name": "python3",
      "display_name": "Python 3"
    },
    "language_info": {
      "name": "python"
    }
  },
  "cells": [
    {
      "cell_type": "code",
      "execution_count": null,
      "metadata": {
        "id": "M-0iHp2l-Zaa"
      },
      "outputs": [],
      "source": [
        "!pip install textblob\n",
        "\n",
        "from textblob import TextBlob\n",
        "\n",
        "def analyze_sentiment(text):\n",
        "    blob = TextBlob(text)\n",
        "    sentiment = blob.sentiment.polarity\n",
        "    if sentiment > 0:\n",
        "        return \"Positive 😊\"\n",
        "    elif sentiment < 0:\n",
        "        return \"Negative 😠\"\n",
        "    else:\n",
        "        return \"Neutral 😐\"\n",
        "\n",
        "# Try it out\n",
        "text = input(\"Enter a sentence: \")\n",
        "print(\"Sentiment:\", analyze_sentiment(text))\n",
        "print(\"Sentimentally\")\n",
        "print(\"test\")"
      ]
    }
  ]
}